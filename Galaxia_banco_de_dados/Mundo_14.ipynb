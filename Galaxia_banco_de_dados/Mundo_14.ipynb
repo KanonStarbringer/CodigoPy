{
 "cells": [
  {
   "cell_type": "code",
   "execution_count": 13,
   "id": "d668530d",
   "metadata": {},
   "outputs": [],
   "source": [
    "from sqlalchemy import create_engine\n",
    "import pandas as pd"
   ]
  },
  {
   "cell_type": "code",
   "execution_count": null,
   "id": "f0db780f-59f5-41b8-b274-302729273b65",
   "metadata": {},
   "outputs": [],
   "source": [
    "!pip install pymysql"
   ]
  },
  {
   "cell_type": "code",
   "execution_count": null,
   "id": "feafa675-9b22-4977-8aad-1b3832dbc96c",
   "metadata": {},
   "outputs": [],
   "source": [
    "!pip install mysql-connector-python"
   ]
  },
  {
   "cell_type": "code",
   "execution_count": null,
   "id": "30e55d32-b1a4-4d9f-9d80-da41c8145f0f",
   "metadata": {},
   "outputs": [],
   "source": [
    "!pip install --upgrade sqlalchemy"
   ]
  },
  {
   "cell_type": "code",
   "execution_count": 14,
   "id": "82c5b983",
   "metadata": {},
   "outputs": [],
   "source": [
    "user = \"root\"\n",
    "senha = \"xr3KnJenQbB4qFu9gmvx\"\n",
    "banco_de_dados = \"mercado_br\"\n",
    "host = \"localhost\"\n",
    "porta = 3306\n",
    "    \n",
    "conexao = create_engine(url=f\"mysql+pymysql://{user}:{senha}@{host}:{porta}/{banco_de_dados}\")"
   ]
  },
  {
   "cell_type": "code",
   "execution_count": 15,
   "id": "412c2b2b",
   "metadata": {},
   "outputs": [
    {
     "ename": "AttributeError",
     "evalue": "'OptionEngine' object has no attribute 'execute'",
     "output_type": "error",
     "traceback": [
      "\u001b[0;31m---------------------------------------------------------------------------\u001b[0m",
      "\u001b[0;31mAttributeError\u001b[0m                            Traceback (most recent call last)",
      "Cell \u001b[0;32mIn[15], line 1\u001b[0m\n\u001b[0;32m----> 1\u001b[0m cotacoes_weg \u001b[38;5;241m=\u001b[39m \u001b[43mpd\u001b[49m\u001b[38;5;241;43m.\u001b[39;49m\u001b[43mread_sql\u001b[49m\u001b[43m(\u001b[49m\u001b[38;5;124;43m'''\u001b[39;49m\n\u001b[1;32m      2\u001b[0m \u001b[38;5;124;43mSELECT dt.datetime, c.stockCodeCompany, c.nameCompany, df.closeValueStock \u001b[39;49m\n\u001b[1;32m      3\u001b[0m \u001b[38;5;124;43mFROM dados_fechamento as df\u001b[39;49m\n\u001b[1;32m      4\u001b[0m \u001b[38;5;124;43mINNER JOIN cadastro_empresas as c on c.keyCompany = df.keyCompany\u001b[39;49m\n\u001b[1;32m      5\u001b[0m \u001b[38;5;124;43mINNER JOIN descricao_tempo as dt on dt.keyTime = df.keyTime\u001b[39;49m\n\u001b[1;32m      6\u001b[0m \u001b[38;5;124;43mWHERE c.stockCodeCompany = \u001b[39;49m\u001b[38;5;124;43m\"\u001b[39;49m\u001b[38;5;124;43mWEGE3\u001b[39;49m\u001b[38;5;124;43m\"\u001b[39;49m\u001b[38;5;124;43m AND dt.datetime BETWEEN 2018 AND 2022;\u001b[39;49m\n\u001b[1;32m      7\u001b[0m \u001b[38;5;124;43m'''\u001b[39;49m\u001b[43m,\u001b[49m\u001b[43m \u001b[49m\u001b[43mcon\u001b[49m\u001b[43m \u001b[49m\u001b[38;5;241;43m=\u001b[39;49m\u001b[43m \u001b[49m\u001b[43mconexao\u001b[49m\u001b[43m)\u001b[49m\n",
      "File \u001b[0;32m~/anaconda3/lib/python3.10/site-packages/pandas/io/sql.py:590\u001b[0m, in \u001b[0;36mread_sql\u001b[0;34m(sql, con, index_col, coerce_float, params, parse_dates, columns, chunksize)\u001b[0m\n\u001b[1;32m    581\u001b[0m     \u001b[38;5;28;01mreturn\u001b[39;00m pandas_sql\u001b[38;5;241m.\u001b[39mread_table(\n\u001b[1;32m    582\u001b[0m         sql,\n\u001b[1;32m    583\u001b[0m         index_col\u001b[38;5;241m=\u001b[39mindex_col,\n\u001b[0;32m   (...)\u001b[0m\n\u001b[1;32m    587\u001b[0m         chunksize\u001b[38;5;241m=\u001b[39mchunksize,\n\u001b[1;32m    588\u001b[0m     )\n\u001b[1;32m    589\u001b[0m \u001b[38;5;28;01melse\u001b[39;00m:\n\u001b[0;32m--> 590\u001b[0m     \u001b[38;5;28;01mreturn\u001b[39;00m \u001b[43mpandas_sql\u001b[49m\u001b[38;5;241;43m.\u001b[39;49m\u001b[43mread_query\u001b[49m\u001b[43m(\u001b[49m\n\u001b[1;32m    591\u001b[0m \u001b[43m        \u001b[49m\u001b[43msql\u001b[49m\u001b[43m,\u001b[49m\n\u001b[1;32m    592\u001b[0m \u001b[43m        \u001b[49m\u001b[43mindex_col\u001b[49m\u001b[38;5;241;43m=\u001b[39;49m\u001b[43mindex_col\u001b[49m\u001b[43m,\u001b[49m\n\u001b[1;32m    593\u001b[0m \u001b[43m        \u001b[49m\u001b[43mparams\u001b[49m\u001b[38;5;241;43m=\u001b[39;49m\u001b[43mparams\u001b[49m\u001b[43m,\u001b[49m\n\u001b[1;32m    594\u001b[0m \u001b[43m        \u001b[49m\u001b[43mcoerce_float\u001b[49m\u001b[38;5;241;43m=\u001b[39;49m\u001b[43mcoerce_float\u001b[49m\u001b[43m,\u001b[49m\n\u001b[1;32m    595\u001b[0m \u001b[43m        \u001b[49m\u001b[43mparse_dates\u001b[49m\u001b[38;5;241;43m=\u001b[39;49m\u001b[43mparse_dates\u001b[49m\u001b[43m,\u001b[49m\n\u001b[1;32m    596\u001b[0m \u001b[43m        \u001b[49m\u001b[43mchunksize\u001b[49m\u001b[38;5;241;43m=\u001b[39;49m\u001b[43mchunksize\u001b[49m\u001b[43m,\u001b[49m\n\u001b[1;32m    597\u001b[0m \u001b[43m    \u001b[49m\u001b[43m)\u001b[49m\n",
      "File \u001b[0;32m~/anaconda3/lib/python3.10/site-packages/pandas/io/sql.py:1560\u001b[0m, in \u001b[0;36mSQLDatabase.read_query\u001b[0;34m(self, sql, index_col, coerce_float, parse_dates, params, chunksize, dtype)\u001b[0m\n\u001b[1;32m   1512\u001b[0m \u001b[38;5;124;03m\"\"\"\u001b[39;00m\n\u001b[1;32m   1513\u001b[0m \u001b[38;5;124;03mRead SQL query into a DataFrame.\u001b[39;00m\n\u001b[1;32m   1514\u001b[0m \n\u001b[0;32m   (...)\u001b[0m\n\u001b[1;32m   1556\u001b[0m \n\u001b[1;32m   1557\u001b[0m \u001b[38;5;124;03m\"\"\"\u001b[39;00m\n\u001b[1;32m   1558\u001b[0m args \u001b[38;5;241m=\u001b[39m _convert_params(sql, params)\n\u001b[0;32m-> 1560\u001b[0m result \u001b[38;5;241m=\u001b[39m \u001b[38;5;28;43mself\u001b[39;49m\u001b[38;5;241;43m.\u001b[39;49m\u001b[43mexecute\u001b[49m\u001b[43m(\u001b[49m\u001b[38;5;241;43m*\u001b[39;49m\u001b[43margs\u001b[49m\u001b[43m)\u001b[49m\n\u001b[1;32m   1561\u001b[0m columns \u001b[38;5;241m=\u001b[39m result\u001b[38;5;241m.\u001b[39mkeys()\n\u001b[1;32m   1563\u001b[0m \u001b[38;5;28;01mif\u001b[39;00m chunksize \u001b[38;5;129;01mis\u001b[39;00m \u001b[38;5;129;01mnot\u001b[39;00m \u001b[38;5;28;01mNone\u001b[39;00m:\n",
      "File \u001b[0;32m~/anaconda3/lib/python3.10/site-packages/pandas/io/sql.py:1405\u001b[0m, in \u001b[0;36mSQLDatabase.execute\u001b[0;34m(self, *args, **kwargs)\u001b[0m\n\u001b[1;32m   1403\u001b[0m \u001b[38;5;28;01mdef\u001b[39;00m \u001b[38;5;21mexecute\u001b[39m(\u001b[38;5;28mself\u001b[39m, \u001b[38;5;241m*\u001b[39margs, \u001b[38;5;241m*\u001b[39m\u001b[38;5;241m*\u001b[39mkwargs):\n\u001b[1;32m   1404\u001b[0m     \u001b[38;5;124;03m\"\"\"Simple passthrough to SQLAlchemy connectable\"\"\"\u001b[39;00m\n\u001b[0;32m-> 1405\u001b[0m     \u001b[38;5;28;01mreturn\u001b[39;00m \u001b[38;5;28;43mself\u001b[39;49m\u001b[38;5;241;43m.\u001b[39;49m\u001b[43mconnectable\u001b[49m\u001b[38;5;241;43m.\u001b[39;49m\u001b[43mexecution_options\u001b[49m\u001b[43m(\u001b[49m\u001b[43m)\u001b[49m\u001b[38;5;241;43m.\u001b[39;49m\u001b[43mexecute\u001b[49m(\u001b[38;5;241m*\u001b[39margs, \u001b[38;5;241m*\u001b[39m\u001b[38;5;241m*\u001b[39mkwargs)\n",
      "\u001b[0;31mAttributeError\u001b[0m: 'OptionEngine' object has no attribute 'execute'"
     ]
    }
   ],
   "source": [
    "cotacoes_weg = pd.read_sql('''\n",
    "SELECT dt.datetime, c.stockCodeCompany, c.nameCompany, df.closeValueStock \n",
    "FROM dados_fechamento as df\n",
    "INNER JOIN cadastro_empresas as c on c.keyCompany = df.keyCompany\n",
    "INNER JOIN descricao_tempo as dt on dt.keyTime = df.keyTime\n",
    "WHERE c.stockCodeCompany = \"WEGE3\" AND dt.datetime BETWEEN 2018 AND 2022;\n",
    "''', con = conexao)"
   ]
  },
  {
   "cell_type": "code",
   "execution_count": null,
   "id": "4bf84f6d",
   "metadata": {},
   "outputs": [],
   "source": [
    "cotacoes_weg"
   ]
  },
  {
   "cell_type": "code",
   "execution_count": null,
   "id": "ca406d69",
   "metadata": {},
   "outputs": [],
   "source": [
    "base_cotacoes = pd.read_sql('''\n",
    "SELECT dt.datetime, c.stockCodeCompany, c.nameCompany, df.closeValueStock FROM dados_fechamento as df\n",
    "INNER JOIN cadastro_empresas as c on c.keyCompany = df.keyCompany\n",
    "INNER JOIN descricao_tempo as dt on dt.keyTime = df.keyTime\n",
    "ORDER BY dt.datetime\n",
    "''', con = conexao)"
   ]
  },
  {
   "cell_type": "code",
   "execution_count": null,
   "id": "61743f26",
   "metadata": {},
   "outputs": [],
   "source": [
    "base_cotacoes"
   ]
  },
  {
   "cell_type": "code",
   "execution_count": null,
   "id": "f6da7ac6",
   "metadata": {},
   "outputs": [],
   "source": [
    "cadastro_empresas = pd.read_sql('''SELECT * from cadastro_empresas''', con = conexao)"
   ]
  },
  {
   "cell_type": "code",
   "execution_count": null,
   "id": "b146c9ed",
   "metadata": {},
   "outputs": [],
   "source": [
    "cadastro_empresas"
   ]
  },
  {
   "cell_type": "code",
   "execution_count": null,
   "id": "9cd2f3fd",
   "metadata": {},
   "outputs": [],
   "source": []
  }
 ],
 "metadata": {
  "kernelspec": {
   "display_name": "Python 3 (ipykernel)",
   "language": "python",
   "name": "python3"
  },
  "language_info": {
   "codemirror_mode": {
    "name": "ipython",
    "version": 3
   },
   "file_extension": ".py",
   "mimetype": "text/x-python",
   "name": "python",
   "nbconvert_exporter": "python",
   "pygments_lexer": "ipython3",
   "version": "3.10.9"
  }
 },
 "nbformat": 4,
 "nbformat_minor": 5
}
